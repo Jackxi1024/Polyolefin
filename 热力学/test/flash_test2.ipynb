{
 "cells": [
  {
   "cell_type": "markdown",
   "metadata": {},
   "source": [
    "1.泡点温度、泡点压力的计算测试\n",
    "\n",
    "2.闪蒸测试\n",
    "测试两相TP闪蒸方法VLE_TPflash()\n",
    "\n",
    "注：本案例含有聚合物, 因此不涉及露点温度和露点压力\n",
    "\n",
    "泡点计算的Aspen对照文件: \n",
    "\n",
    "闪蒸计算的Aspen对照文件: \n",
    "..\\polymer_model\\thermodynamics\\test\\Aspen\\pp_flash\n",
    "..\\polymer_model\\thermodynamics\\test\\Aspen\\pp_flash1\n",
    "..\\polymer_model\\thermodynamics\\test\\Aspen\\hdpe_flash"
   ]
  },
  {
   "cell_type": "code",
   "execution_count": 11,
   "metadata": {},
   "outputs": [],
   "source": [
    "from polymer_model.thermodynamics.flash_algorithm import *\n",
    "import numpy as np"
   ]
  },
  {
   "cell_type": "code",
   "execution_count": 12,
   "metadata": {},
   "outputs": [
    {
     "name": "stdout",
     "output_type": "stream",
     "text": [
      "泡点压力:  (2728939.7220213343, array([8.98029950e-01, 1.72185017e-02, 7.61300088e-02, 8.62153739e-03,\n",
      "       0.00000000e+00, 1.12343172e-14, 6.19165718e-14]), 2, 7)\n",
      "泡点温度： (343.7129368650262, array([9.01264321e-01, 1.73045087e-02, 7.30713590e-02, 8.35978215e-03,\n",
      "       0.00000000e+00, 1.66071657e-14, 9.15283718e-14]), 3, 5)\n"
     ]
    }
   ],
   "source": [
    "# 泡点温度、压力计算\n",
    "# case 1: \"C3H6\", \"C3H8\", \"H2\", \"N2\", \"PP\", \"TICL4\", \"TEA\"\n",
    "T = 342.15\n",
    "P = 2800000\n",
    "PP_DPN = 535.4335 \n",
    "PP_MWN = 42.0806*PP_DPN\n",
    "z = np.array([0.2098286, 0.00408862, 0.0005843, 0.000137371, 0.7851512/PP_DPN,\n",
    "                3.22413E-05, 0.000177694])\n",
    "z = z/np.sum(z)\n",
    "args = {\"Tc\": np.array([364.85, 369.83, 33.19, 126.2, 2000, 638, 678.15]), \n",
    "        \"Pc\": np.array([4600000, 4248000, 1313000, 3400000, 5000000, 4660950, 8930000]), \n",
    "        \"w\": np.array([0.137588, 0.152291, -0.215993, 0.0377215, 0, 0.283732, 0.841783]),\n",
    "        \"m\": np.array([1.9597, 2.002, 0.9846, 1.2053, 0.02528*PP_MWN, 20, 20]),\n",
    "        \"s\": np.array([3.5356, 3.6184, 2.8263, 3.313, 4.1473, 3.54, 3.54]),\n",
    "        \"e\": np.array([207.19, 208.11, 20.893, 90.96, 298.6392, 210, 210])}\n",
    "Pb = bubble_pressure(T, z, args)\n",
    "print(\"泡点压力: \", Pb)\n",
    "Tb = bubble_temperature(P, z, args)\n",
    "print(\"泡点温度：\", Tb)"
   ]
  },
  {
   "cell_type": "code",
   "execution_count": 13,
   "metadata": {},
   "outputs": [
    {
     "name": "stdout",
     "output_type": "stream",
     "text": [
      "z [7.70213037e-01 1.43880394e-01 7.86818900e-02 7.21920243e-03\n",
      " 1.37638763e-06 6.27135141e-07 3.47329168e-06]\n",
      "Vapor fraction:  0.7092611438703768\n",
      "Liquid composition:  [8.26054215e-01 1.65974718e-01 6.73919994e-03 1.21302931e-03\n",
      " 4.73410163e-06 2.15703878e-06 1.19464281e-05]\n",
      "新气相分数： 0.7074944548555515\n",
      "新液相组成： [8.19019794e-01 1.64561329e-01 6.68181100e-03 1.20269953e-03\n",
      " 8.52038366e-03 2.13867011e-06 1.18446960e-05]\n",
      "Vapor composition:  [7.47322729e-01 1.34823532e-01 1.08172498e-01 9.68124130e-03\n",
      " 0.00000000e+00 4.40134475e-16 2.43761720e-15]\n",
      "iter_total:  17\n"
     ]
    }
   ],
   "source": [
    "# 案例1中聚合物PP含量少, 迭代12次后就收敛了\n",
    "# Flash test 1: \"C3H6\", \"C3H8\", \"H2\", \"N2\", \"PP\", \"TICL4\", \"TEA\"\n",
    "T = 333.15\n",
    "P = 3000000\n",
    "PP_MWN = 76386.77\n",
    "PP_DPN = 1815.247\n",
    "# z = np.array([0.7682945, 0.143522, 0.0784859, 0.00720122, 0.00249226/PP_DPN, 6.25573E-07, 3.46464E-06])\n",
    "z = np.array([7.682945e-01, 1.435220e-01, 7.848590e-02, 7.201220e-03, 2.492260e-03/PP_DPN,\n",
    "                6.255730e-07, 3.464640e-06])\n",
    "\n",
    "z = z/np.sum(z)\n",
    "print(\"z\", z)\n",
    "args = {\"Tc\": np.array([364.85, 369.83, 33.19, 126.2, 2000, 638, 678.15]), \n",
    "        \"Pc\": np.array([4600000, 4248000, 1313000, 3400000, 5000000, 4660950, 8930000]), \n",
    "        \"w\": np.array([0.137588, 0.152291, -0.215993, 0.0377215, 0, 0.283732, 0.841783]),\n",
    "        \"m\": np.array([1.9597, 2.002, 0.9846, 1.2053, 0.02528*PP_MWN, 20, 20]),\n",
    "        \"s\": np.array([3.5356, 3.6184, 2.8263, 3.313, 4.1473, 3.54, 3.54]),\n",
    "        \"e\": np.array([207.19, 208.11, 20.893, 90.96, 298.6392, 210, 210])}\n",
    "\n",
    "beta, x, y, iter_total = VLE_TPflash(T, P, z, args)\n",
    "print(\"Vapor fraction: \", beta)\n",
    "print(\"Liquid composition: \", x)\n",
    "x[4] = x[4]*PP_DPN\n",
    "beta = beta/(beta+(1-beta)*sum(x))\n",
    "print(\"新气相分数：\", beta)\n",
    "x = x/sum(x)\n",
    "print(\"新液相组成：\", x)\n",
    "\n",
    "print(\"Vapor composition: \", y)\n",
    "print(\"iter_total: \", iter_total)"
   ]
  },
  {
   "cell_type": "code",
   "execution_count": 14,
   "metadata": {},
   "outputs": [
    {
     "name": "stdout",
     "output_type": "stream",
     "text": [
      "z [9.70013156e-01 1.89012136e-02 2.70115078e-03 6.35050118e-04\n",
      " 6.77892299e-03 1.49047771e-04 8.21458647e-04]\n",
      "Vapor fraction:  0.8968137256565466\n",
      "Liquid composition:  [9.06950027e-01 1.78870292e-02 3.77468499e-05 2.67711884e-05\n",
      " 6.56934106e-02 1.44439706e-03 7.96061856e-03]\n",
      "新气相分数： 0.19400038133036362\n",
      "新液相组成： [2.51171750e-02 4.95365376e-04 1.04536546e-06 7.41404270e-07\n",
      " 9.74125209e-01 4.00012929e-05 2.20462256e-04]\n",
      "Vapor composition:  [9.77269437e-01 1.90179095e-02 3.00761208e-03 7.05040985e-04\n",
      " 0.00000000e+00 4.32985781e-15 2.38634842e-14]\n",
      "iter:  100\n"
     ]
    }
   ],
   "source": [
    "# 案例2的聚合物含量高, 迭代到最大次数，最终结果和Aspen相近\n",
    "# Flash test 2: \"C3H6\", \"C3H8\", \"H2\", \"N2\", \"PP\", \"TICL4\", \"TEA\"\n",
    "T = 338.15\n",
    "P = 500000\n",
    "PP_DPN = 535.4335 \n",
    "PP_MWN = 42.0806*PP_DPN\n",
    "z = np.array([0.2098286, 0.00408862, 0.0005843, 0.000137371, 0.7851512/PP_DPN,\n",
    "                3.22413E-05, 0.000177694])\n",
    "# z = np.array([0.0251157, 0.000495333, 1.33715E-06, 7.41334E-07, 0.9741264/PP_DPN, 4.00013E-05, 0.000220463])\n",
    "\n",
    "z = z/np.sum(z)\n",
    "print(\"z\", z)\n",
    "args = {\"Tc\": np.array([364.85, 369.83, 33.19, 126.2, 2000, 638, 678.15]), \n",
    "        \"Pc\": np.array([4600000, 4248000, 1313000, 3400000, 5000000, 4660950, 8930000]), \n",
    "        \"w\": np.array([0.137588, 0.152291, -0.215993, 0.0377215, 0, 0.283732, 0.841783]),\n",
    "        \"m\": np.array([1.9597, 2.002, 0.8285, 1.2053, 0.02528*PP_MWN, 20, 20]),\n",
    "        \"s\": np.array([3.5356, 3.6184, 2.9729, 3.313, 4.1473, 3.5356, 3.5356]),\n",
    "        \"e\": np.array([207.19, 208.11, 12.53, 90.96, 298.6392, 207.19, 207.19])}\n",
    "\n",
    "beta, x, y, iter = VLE_TPflash(T, P, z, args)\n",
    "print(\"Vapor fraction: \", beta)\n",
    "print(\"Liquid composition: \", x)\n",
    "x[4] = x[4]*PP_DPN\n",
    "beta = beta/(beta+(1-beta)*sum(x))\n",
    "print(\"新气相分数：\", beta)\n",
    "x = x/sum(x)\n",
    "print(\"新液相组成：\", x)\n",
    "\n",
    "print(\"Vapor composition: \", y)\n",
    "print(\"iter: \", iter)"
   ]
  },
  {
   "cell_type": "code",
   "execution_count": 15,
   "metadata": {},
   "outputs": [
    {
     "name": "stdout",
     "output_type": "stream",
     "text": [
      "Vapor fraction:  0.034759023365928905\n",
      "Liquid composition:  [2.51002707e-02 1.56929072e-04 9.74700501e-01 4.19729210e-07\n",
      " 4.08102453e-05 1.06951174e-06]\n",
      "新气相分数： 0.03474365233298426\n",
      "新液相组成： [2.50887714e-02 1.56857177e-04 9.74253957e-01 4.58553851e-04\n",
      " 4.07915488e-05 1.06902176e-06]\n",
      "Vapor composition:  [4.80534350e-01 3.20635119e-02 4.87402138e-01 0.00000000e+00\n",
      " 1.19417117e-15 3.12955746e-17]\n",
      "iter:  100\n"
     ]
    }
   ],
   "source": [
    "# 本案例迭代到最大次数，最终结果和Aspen相近\n",
    "# Flash test 3: C2H4、H2、C6H14、HDPE、TEA、TICL4\n",
    "T = 363.15 \n",
    "P = 400000\n",
    "DPN = 1093\n",
    "MWN = 30662.76\n",
    "z = np.array([0.0409126, 0.00126541, 0.9573389, 0.000442622/DPN, 3.93743E-05, 1.03188E-06])\n",
    "z = z/np.sum(z)\n",
    "args = {\"Tc\": np.array([282.34, 33.19, 507.6, 2000, 678.15, 638]), \n",
    "        \"Pc\": np.array([5041000, 1313000, 3025000, 5000000, 8930000, 4660950]), \n",
    "        \"w\": np.array([0.0862484, -0.215993, 0.301261, 0, 0.841783, 0.283732]),\n",
    "        \"m\": np.array([1.5567, 0.98625, 3.0576, 0.05013*MWN, 25, 25]),\n",
    "        \"s\": np.array([3.4358, 2.8242, 3.7983, 3.2336, 2.668, 2.668]),\n",
    "        \"e\": np.array([179.53, 20.876, 236.77, 241.43, 198.8, 198.8])}\n",
    "\n",
    "beta, x, y, iter_total = VLE_TPflash(T, P, z, args)\n",
    "print(\"Vapor fraction: \", beta)\n",
    "print(\"Liquid composition: \", x)\n",
    "x[3] = x[3]*DPN\n",
    "beta = beta/(beta+(1-beta)*sum(x))\n",
    "print(\"新气相分数：\", beta)\n",
    "x = x/sum(x)\n",
    "print(\"新液相组成：\", x)\n",
    "\n",
    "print(\"Vapor composition: \", y)\n",
    "print(\"iter: \", iter)"
   ]
  }
 ],
 "metadata": {
  "interpreter": {
   "hash": "a8f61be024eba58adef938c9aa1e29e02cb3dece83a5348b1a2dafd16a070453"
  },
  "kernelspec": {
   "display_name": "Python 3.7.1 ('base')",
   "language": "python",
   "name": "python3"
  },
  "language_info": {
   "codemirror_mode": {
    "name": "ipython",
    "version": 3
   },
   "file_extension": ".py",
   "mimetype": "text/x-python",
   "name": "python",
   "nbconvert_exporter": "python",
   "pygments_lexer": "ipython3",
   "version": "3.7.1"
  },
  "orig_nbformat": 4
 },
 "nbformat": 4,
 "nbformat_minor": 2
}
