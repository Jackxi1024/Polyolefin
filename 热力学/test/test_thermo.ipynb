{
 "cells": [
  {
   "cell_type": "markdown",
   "metadata": {},
   "source": [
    "测试热力学计算程序:\n",
    "计算混合物的摩尔焓、摩尔熵"
   ]
  },
  {
   "cell_type": "code",
   "execution_count": null,
   "metadata": {},
   "outputs": [],
   "source": [
    "# 设置参数\n",
    "# 设置组分参数：C3H6、C3H8、H2、N2、PP、TiCl4、TEA、C3H6-R\n",
    "components = {\n",
    "    \"C3H6\": {\"type\": \"conventional\"},\n",
    "    \"C3H8\": {\"type\": \"conventional\"},\n",
    "    \"H2\": {\"type\": \"conventional\"},\n",
    "    \"N2\": {\"type\": \"conventional\"},\n",
    "    \"PP\": {\"type\": \"polymer\"},\n",
    "    \"TiCl4\": {\"type\": \"conventional\"},\n",
    "    \"TEA\": {\"type\": \"conventional\"},\n",
    "    \"C3H6-R\": {\"type\": \"segment\"},\n",
    "}\n",
    "\n",
    "# 设置温度"
   ]
  }
 ],
 "metadata": {
  "interpreter": {
   "hash": "a8f61be024eba58adef938c9aa1e29e02cb3dece83a5348b1a2dafd16a070453"
  },
  "kernelspec": {
   "display_name": "Python 3.7.1 ('base')",
   "language": "python",
   "name": "python3"
  },
  "language_info": {
   "name": "python",
   "version": "3.7.1"
  },
  "orig_nbformat": 4
 },
 "nbformat": 4,
 "nbformat_minor": 2
}
