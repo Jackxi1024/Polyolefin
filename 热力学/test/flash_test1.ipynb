{
 "cells": [
  {
   "cell_type": "markdown",
   "metadata": {},
   "source": [
    "1.泡点温度、泡点压力、露点温度、露点压力的计算测试\n",
    "\n",
    "Note ! ! !\n",
    "When the temperature exceeds the critical temperature or the pressure exceeds \n",
    "the critical pressure, there is a large deviation between the calculated results and Aspen\n",
    "\n",
    "2.闪蒸测试\n",
    "测试两相TP闪蒸方法VLE_TPflash()\n",
    "\n",
    "注：本案例不含聚合物\n",
    "\n",
    "泡露点计算的Aspen对照文件: ..\\polymer_model\\thermodynamics\\test\\Aspen\\bubble_dew\n",
    "\n",
    "闪蒸计算的Aspen对照文件: ..\\polymer_model\\thermodynamics\\test\\Aspen\\propylene_flash"
   ]
  },
  {
   "cell_type": "code",
   "execution_count": 7,
   "metadata": {},
   "outputs": [],
   "source": [
    "from polymer_model.thermodynamics.flash_algorithm import *\n",
    "import numpy as np"
   ]
  },
  {
   "cell_type": "code",
   "execution_count": 8,
   "metadata": {},
   "outputs": [
    {
     "name": "stdout",
     "output_type": "stream",
     "text": [
      "泡点压力:  (4118496.393497998, array([0.51285659, 0.4871434 ]), 2, 4)\n"
     ]
    }
   ],
   "source": [
    "# Case 1: Calculation of bubble point pressure of propylene and propane system\n",
    "T = 363.60792\n",
    "z = np.array([0.5,0.5])\n",
    "args = {\"Tc\": np.array([364.85, 369.83]),   \n",
    "        \"Pc\": np.array([4600000, 4248000]), \n",
    "        \"w\": np.array([0.137588, 0.152291]),\n",
    "        \"m\": np.array([1.9597, 2.002]),\n",
    "        \"s\": np.array([3.5356, 3.6184]),\n",
    "        \"e\": np.array([207.19, 208.11])}\n",
    "N = bubble_pressure(T, z, args)\n",
    "print(\"泡点压力: \",N)"
   ]
  },
  {
   "cell_type": "code",
   "execution_count": 9,
   "metadata": {},
   "outputs": [
    {
     "name": "stdout",
     "output_type": "stream",
     "text": [
      "泡点温度:  (227.78101332960566, array([0.56008862, 0.43991139]), 2, 5)\n"
     ]
    }
   ],
   "source": [
    "# Case 2: Calculation of bubble point temperature of propylene and propane system\n",
    "P = 100000\n",
    "N = bubble_temperature(P, z, args)\n",
    "print(\"泡点温度: \",N) "
   ]
  },
  {
   "cell_type": "code",
   "execution_count": 10,
   "metadata": {},
   "outputs": [
    {
     "name": "stdout",
     "output_type": "stream",
     "text": [
      "露点压力:  (3846555.0805775723, array([0.48462205, 0.51537801]), 2, 4)\n"
     ]
    }
   ],
   "source": [
    "# Case 3: Calculation of dew point pressure of propylene and propane system\n",
    "T = 359.87856\n",
    "N = dew_pressure(T, z, args) \n",
    "print(\"露点压力: \",N)"
   ]
  },
  {
   "cell_type": "code",
   "execution_count": 11,
   "metadata": {},
   "outputs": [
    {
     "name": "stdout",
     "output_type": "stream",
     "text": [
      "露点温度:  (228.115568191434, array([0.44009997, 0.55989999]), 2, 5)\n"
     ]
    }
   ],
   "source": [
    "# Case 4: Calculation of dew point temperature of propylene and propane system\n",
    "P = 100000\n",
    "N = dew_temperature(P, z, args)\n",
    "print(\"露点温度: \",N)"
   ]
  },
  {
   "cell_type": "code",
   "execution_count": 12,
   "metadata": {},
   "outputs": [
    {
     "name": "stdout",
     "output_type": "stream",
     "text": [
      "Vapor fraction:  0.8302603491932395\n",
      "Liquid composition:  [8.23085176e-01 1.73795665e-01 4.82076317e-04 2.63708230e-03]\n",
      "Vapor composition:  [0.81936926 0.15717959 0.00592365 0.0175275 ]\n",
      "iter_total:  10\n"
     ]
    }
   ],
   "source": [
    "# Flash test 1: \"C3H6\", \"C3H8\", \"H2\", \"N2\"\n",
    "T = 341.15\n",
    "P = 3000000\n",
    "z = np.array([0.82, 0.16, 0.005, 0.015])\n",
    "args = {\"Tc\": np.array([364.85, 369.83, 33.19, 126.2]), \n",
    "        \"Pc\": np.array([4600000, 4248000, 1313000, 3400000]), \n",
    "        \"w\": np.array([0.137588, 0.152291, -0.215993, 0.0377215]),\n",
    "        \"m\": np.array([1.9597, 2.002, 0.9846, 1.2053]),\n",
    "        \"s\": np.array([3.5356, 3.6184, 2.8263, 3.313]),\n",
    "        \"e\": np.array([207.19, 208.11, 20.893, 90.96])}\n",
    "\n",
    "beta, x, y, iter_total = VLE_TPflash(T, P, z, args)\n",
    "print(\"Vapor fraction: \", beta)\n",
    "print(\"Liquid composition: \", x)\n",
    "print(\"Vapor composition: \", y)\n",
    "print(\"iter_total: \", iter_total)"
   ]
  }
 ],
 "metadata": {
  "interpreter": {
   "hash": "a8f61be024eba58adef938c9aa1e29e02cb3dece83a5348b1a2dafd16a070453"
  },
  "kernelspec": {
   "display_name": "Python 3.7.1 ('base')",
   "language": "python",
   "name": "python3"
  },
  "language_info": {
   "codemirror_mode": {
    "name": "ipython",
    "version": 3
   },
   "file_extension": ".py",
   "mimetype": "text/x-python",
   "name": "python",
   "nbconvert_exporter": "python",
   "pygments_lexer": "ipython3",
   "version": "3.7.1"
  },
  "orig_nbformat": 4
 },
 "nbformat": 4,
 "nbformat_minor": 2
}
