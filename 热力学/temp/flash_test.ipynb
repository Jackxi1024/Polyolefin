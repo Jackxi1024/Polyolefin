{
 "cells": [
  {
   "cell_type": "markdown",
   "metadata": {},
   "source": [
    "1.泡点温度、泡点压力、露点温度、露点压力的计算测试\n",
    "\n",
    "Note ! ! !\n",
    "When the temperature exceeds the critical temperature or the pressure exceeds \n",
    "the critical pressure, there is a large deviation between the calculated results and Aspen\n",
    "\n",
    "2.闪蒸测试\n",
    "测试两相TP闪蒸方法VLE_TPflash()"
   ]
  },
  {
   "cell_type": "code",
   "execution_count": 1,
   "metadata": {},
   "outputs": [],
   "source": [
    "import sys\n",
    "sys.path.append('E:\\\\AZFT\\\\ploymer_model')\n",
    "from thermodynamics.flash_algorithm import *\n",
    "import numpy as np"
   ]
  },
  {
   "cell_type": "code",
   "execution_count": 2,
   "metadata": {},
   "outputs": [
    {
     "name": "stdout",
     "output_type": "stream",
     "text": [
      "泡点压力:  (4118496.393497998, array([0.51285659, 0.4871434 ]), 2, 4)\n"
     ]
    }
   ],
   "source": [
    "# Case 1: Calculation of bubble point pressure of propylene and propane system\n",
    "T = 363.60792\n",
    "z = np.array([0.5,0.5])\n",
    "args = {\"Tc\": np.array([364.85, 369.83]),   \n",
    "        \"Pc\": np.array([4600000, 4248000]), \n",
    "        \"w\": np.array([0.137588, 0.152291]),\n",
    "        \"m\": np.array([1.9597, 2.002]),\n",
    "        \"s\": np.array([3.5356, 3.6184]),\n",
    "        \"e\": np.array([207.19, 208.11])}\n",
    "N = bubble_pressure(T, z, args)\n",
    "print(\"泡点压力: \",N)"
   ]
  },
  {
   "cell_type": "code",
   "execution_count": 3,
   "metadata": {},
   "outputs": [
    {
     "name": "stdout",
     "output_type": "stream",
     "text": [
      "泡点温度:  (227.78101332960566, array([0.56008862, 0.43991139]), 2, 5)\n"
     ]
    }
   ],
   "source": [
    "# Case 2: Calculation of bubble point temperature of propylene and propane system\n",
    "P = 100000\n",
    "N = bubble_temperature(P, z, args)\n",
    "print(\"泡点温度: \",N) "
   ]
  },
  {
   "cell_type": "code",
   "execution_count": 4,
   "metadata": {},
   "outputs": [
    {
     "name": "stdout",
     "output_type": "stream",
     "text": [
      "露点压力:  (3846555.0805775723, array([0.48462205, 0.51537801]), 2, 4)\n"
     ]
    }
   ],
   "source": [
    "# Case 3: Calculation of dew point pressure of propylene and propane system\n",
    "T = 359.87856\n",
    "N = dew_pressure(T, z, args) \n",
    "print(\"露点压力: \",N)"
   ]
  },
  {
   "cell_type": "code",
   "execution_count": 5,
   "metadata": {},
   "outputs": [
    {
     "name": "stdout",
     "output_type": "stream",
     "text": [
      "露点温度:  (228.115568191434, array([0.44009997, 0.55989999]), 2, 5)\n"
     ]
    }
   ],
   "source": [
    "# Case 4: Calculation of dew point temperature of propylene and propane system\n",
    "P = 100000\n",
    "N = dew_temperature(P, z, args)\n",
    "print(\"露点温度: \",N)"
   ]
  },
  {
   "cell_type": "code",
   "execution_count": 6,
   "metadata": {},
   "outputs": [
    {
     "name": "stdout",
     "output_type": "stream",
     "text": [
      "Vapor fraction:  0.8302604839913647\n",
      "Liquid composition:  [8.23085170e-01 1.73795673e-01 4.82076055e-04 2.63708094e-03]\n",
      "Vapor composition:  [0.81936926 0.15717959 0.00592365 0.01752749]\n",
      "iter_total:  7\n"
     ]
    }
   ],
   "source": [
    "# Flash test 1: \"C3H6\", \"C3H8\", \"H2\", \"N2\"\n",
    "T = 341.15\n",
    "P = 3000000\n",
    "z = np.array([0.82, 0.16, 0.005, 0.015])\n",
    "args = {\"Tc\": np.array([364.85, 369.83, 33.19, 126.2]), \n",
    "        \"Pc\": np.array([4600000, 4248000, 1313000, 3400000]), \n",
    "        \"w\": np.array([0.137588, 0.152291, -0.215993, 0.0377215]),\n",
    "        \"m\": np.array([1.9597, 2.002, 0.9846, 1.2053]),\n",
    "        \"s\": np.array([3.5356, 3.6184, 2.8263, 3.313]),\n",
    "        \"e\": np.array([207.19, 208.11, 20.893, 90.96])}\n",
    "\n",
    "beta, x, y, iter_total = VLE_TPflash(T, P, z, args)\n",
    "print(\"Vapor fraction: \", beta)\n",
    "print(\"Liquid composition: \", x)\n",
    "print(\"Vapor composition: \", y)\n",
    "print(\"iter_total: \", iter_total)"
   ]
  },
  {
   "cell_type": "code",
   "execution_count": 7,
   "metadata": {},
   "outputs": [
    {
     "name": "stdout",
     "output_type": "stream",
     "text": [
      "Vapor fraction:  0.7041655771172827\n",
      "Liquid composition:  [8.18558626e-01 1.81312419e-01 6.89141415e-05 3.49744785e-05\n",
      " 1.11712834e-05 2.13448283e-06 1.17598497e-05]\n",
      "新气相分数： 0.6976079115752248\n",
      "新液相组成： [7.93349730e-01 1.75728597e-01 6.67918140e-05 3.38973803e-05\n",
      " 3.08075177e-02 2.06874782e-06 1.13976853e-05]\n",
      "Vapor composition:  [7.47653342e-01 1.29561542e-01 1.12477078e-01 1.03080388e-02\n",
      " 0.00000000e+00 1.00512742e-32 5.53771025e-32]\n",
      "iter_total:  6\n"
     ]
    }
   ],
   "source": [
    "# Flash test 2: \"C3H6\", \"C3H8\", \"H2\", \"N2\", \"PP\", \"TICL4\", \"TEA\"\n",
    "T = 223.15\n",
    "P = 100000\n",
    "PP_MWN = 119735\n",
    "PP_DPN = 2845.37\n",
    "z = np.array([0.7614716, 0.1435221, 0.0784851, 0.00720122, 0.00931595/PP_DPN, 6.25573E-07, 3.44657E-06])\n",
    "z = z/sum(z)\n",
    "args = {\"Tc\": np.array([364.85, 369.83, 33.19, 126.2, 2000, 638, 678.15]), \n",
    "        \"Pc\": np.array([4600000, 4248000, 1313000, 3400000, 5000000, 4660950, 8930000]), \n",
    "        \"w\": np.array([0.137588, 0.152291, -0.215993, 0.0377215, 0, 0.283732, 0.841783]),\n",
    "        \"m\": np.array([1.9597, 2.002, 0.9846, 1.2053, 0.02528*PP_MWN, 20, 20]),\n",
    "        \"s\": np.array([3.5356, 3.6184, 2.8263, 3.313, 4.1473, 3.54, 3.54]),\n",
    "        \"e\": np.array([207.19, 208.11, 20.893, 90.96, 298.6392, 210, 210])}\n",
    "\n",
    "beta, x, y, iter_total = VLE_TPflash(T, P, z, args)\n",
    "print(\"Vapor fraction: \", beta)\n",
    "print(\"Liquid composition: \", x)\n",
    "x[4] = x[4]*PP_DPN\n",
    "beta = beta/(beta+(1-beta)*sum(x))\n",
    "print(\"新气相分数：\", beta)\n",
    "x = x/sum(x)\n",
    "print(\"新液相组成：\", x)\n",
    "\n",
    "print(\"Vapor composition: \", y)\n",
    "print(\"iter_total: \", iter_total)"
   ]
  },
  {
   "cell_type": "code",
   "execution_count": 8,
   "metadata": {},
   "outputs": [
    {
     "name": "stdout",
     "output_type": "stream",
     "text": [
      "z [7.70213037e-01 1.43880394e-01 7.86818900e-02 7.21920243e-03\n",
      " 1.37638763e-06 6.27135141e-07 3.47329168e-06]\n",
      "Vapor fraction:  0.7092611940567202\n",
      "Liquid composition:  [8.26054215e-01 1.65974720e-01 6.73919894e-03 1.21302914e-03\n",
      " 4.73410360e-06 2.15703968e-06 1.19464330e-05]\n",
      "新气相分数： 0.7074945044872507\n",
      "新液相组成： [8.19019790e-01 1.64561330e-01 6.68180999e-03 1.20269936e-03\n",
      " 8.52038718e-03 2.13867099e-06 1.18447009e-05]\n",
      "Vapor composition:  [7.47322742e-01 1.34823536e-01 1.08172481e-01 9.68123992e-03\n",
      " 0.00000000e+00 4.40134816e-16 2.43761909e-15]\n",
      "iter_total:  11\n"
     ]
    }
   ],
   "source": [
    "# Flash test 2: \"C3H6\", \"C3H8\", \"H2\", \"N2\", \"PP\", \"TICL4\", \"TEA\"\n",
    "T = 333.15\n",
    "P = 3000000\n",
    "PP_MWN = 76386.77\n",
    "PP_DPN = 1815.247\n",
    "# z = np.array([0.7682945, 0.143522, 0.0784859, 0.00720122, 0.00249226/PP_DPN, 6.25573E-07, 3.46464E-06])\n",
    "z = np.array([7.682945e-01, 1.435220e-01, 7.848590e-02, 7.201220e-03, 2.492260e-03/PP_DPN,\n",
    "                6.255730e-07, 3.464640e-06])\n",
    "\n",
    "z = z/np.sum(z)\n",
    "print(\"z\", z)\n",
    "args = {\"Tc\": np.array([364.85, 369.83, 33.19, 126.2, 2000, 638, 678.15]), \n",
    "        \"Pc\": np.array([4600000, 4248000, 1313000, 3400000, 5000000, 4660950, 8930000]), \n",
    "        \"w\": np.array([0.137588, 0.152291, -0.215993, 0.0377215, 0, 0.283732, 0.841783]),\n",
    "        \"m\": np.array([1.9597, 2.002, 0.9846, 1.2053, 0.02528*PP_MWN, 20, 20]),\n",
    "        \"s\": np.array([3.5356, 3.6184, 2.8263, 3.313, 4.1473, 3.54, 3.54]),\n",
    "        \"e\": np.array([207.19, 208.11, 20.893, 90.96, 298.6392, 210, 210])}\n",
    "\n",
    "beta, x, y, iter_total = VLE_TPflash(T, P, z, args)\n",
    "print(\"Vapor fraction: \", beta)\n",
    "print(\"Liquid composition: \", x)\n",
    "x[4] = x[4]*PP_DPN\n",
    "beta = beta/(beta+(1-beta)*sum(x))\n",
    "print(\"新气相分数：\", beta)\n",
    "x = x/sum(x)\n",
    "print(\"新液相组成：\", x)\n",
    "\n",
    "print(\"Vapor composition: \", y)\n",
    "print(\"iter_total: \", iter_total)"
   ]
  },
  {
   "cell_type": "code",
   "execution_count": 9,
   "metadata": {},
   "outputs": [],
   "source": [
    "# # Flash test 3: C2H4、H2、C6H14、HDPE、TEA、TICL4\n",
    "# T = 363.15 \n",
    "# P = 400000\n",
    "# z = np.array([0.0409126, 0.00126541, 0.9573389, 0.000442622, 3.93743E-05, 1.03188E-06])\n",
    "# args = {\"Tc\": np.array([282.34, 33.19, 507.6, 2000, 678.15, 638]), \n",
    "#         \"Pc\": np.array([5041000, 1313000, 3025000, 5000000, 8930000, 4660950]), \n",
    "#         \"w\": np.array([0.0862484, -0.215993, 0.301261, 0, 0.841783, 0.283732]),\n",
    "#         \"m\": np.array([1.5567, 0.98625, 3.0576, 0.05013, 25, 25]),\n",
    "#         \"s\": np.array([3.4358, 2.8242, 3.7983, 3.2336, 2.668, 2.668]),\n",
    "#         \"e\": np.array([179.53, 20.876, 236.77, 241.43, 198.8, 198.8])}\n",
    "\n",
    "# beta, x, y, iter_total = VLE_TPflash(T, P, z, args)\n",
    "# print(\"Vapor fraction: \", beta)\n",
    "# print(\"Liquid composition: \", x)\n",
    "# print(\"Vapor composition: \", y)\n",
    "# print(\"iter_total: \", iter_total)"
   ]
  },
  {
   "cell_type": "code",
   "execution_count": 10,
   "metadata": {},
   "outputs": [],
   "source": [
    "# # Flash test 4: LDPE, PP, C2H4, C3H6\n",
    "# T = 298.15\n",
    "# P = 2026500\n",
    "# LDPE_MWN = 100000\n",
    "# LDPE_DPN = 3564.585\n",
    "# PP_MWN = 100000\n",
    "# PP_DPN = 3564.585\n",
    "# z = np.array([0.125/LDPE_DPN, 0.125/PP_DPN, 0.375, 0.375])\n",
    "# z = z/sum(z)\n",
    "# args = {\"Tc\": np.array([2000, 2000, 282.34, 364.85]), \n",
    "#         \"Pc\": np.array([5000000, 5000000, 5041000, 4600000]), \n",
    "#         \"w\": np.array([0, 0, 0.0862484, 0.137588]),\n",
    "#         \"m\": np.array([0.04132*LDPE_MWN, 0.02528*PP_MWN, 1.5567, 1.9597]),\n",
    "#         \"s\": np.array([3.4751, 4.1473, 3.4358, 3.5356]),\n",
    "#         \"e\": np.array([267.1854, 298.6392, 179.53, 207.19])}\n",
    "\n",
    "# beta, x, y, iter_total = VLE_TPflash(T, P, z, args)\n",
    "# print(\"Vapor fraction: \", beta)\n",
    "# print(\"Liquid composition: \", x)\n",
    "# print(\"Vapor composition: \", y)\n",
    "# print(\"iter_total: \", iter_total)"
   ]
  }
 ],
 "metadata": {
  "interpreter": {
   "hash": "a8f61be024eba58adef938c9aa1e29e02cb3dece83a5348b1a2dafd16a070453"
  },
  "kernelspec": {
   "display_name": "Python 3.7.1 64-bit ('base': conda)",
   "name": "python3"
  },
  "language_info": {
   "codemirror_mode": {
    "name": "ipython",
    "version": 3
   },
   "file_extension": ".py",
   "mimetype": "text/x-python",
   "name": "python",
   "nbconvert_exporter": "python",
   "pygments_lexer": "ipython3",
   "version": "3.7.1"
  },
  "orig_nbformat": 4
 },
 "nbformat": 4,
 "nbformat_minor": 2
}
