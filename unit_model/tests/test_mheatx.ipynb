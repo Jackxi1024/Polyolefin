{
 "cells": [
  {
   "cell_type": "markdown",
   "metadata": {},
   "source": [
    "多流股换热器测试\n",
    "\n",
    "Aspen测试文件地址:  ./Aspen/mheatx/mheatx.apwz\n",
    "\n",
    "<img src=\"image/HEX1.png\" width=\"40%\">\n",
    "<!-- ![avatar](image/HEX1.png  = 1000x200) -->"
   ]
  },
  {
   "cell_type": "code",
   "execution_count": 1,
   "metadata": {},
   "outputs": [],
   "source": [
    "# 导包\n",
    "from polymer_model.flowsheet.flowsheet import Flowsheet\n",
    "from polymer_model.unit_model.stream import MaterialStream\n",
    "from polymer_model.unit_model.mheatx import MHeatX\n",
    "import time\n",
    "import numpy as np"
   ]
  },
  {
   "cell_type": "code",
   "execution_count": 2,
   "metadata": {},
   "outputs": [],
   "source": [
    "# 流程的组分：C3H6、C3H8、H2O\n",
    "components = {\n",
    "    \"Propylene\": {\"type\": \"conventional\"},\n",
    "    \"Propane\": {\"type\": \"conventional\"},\n",
    "    \"Water\": {\"type\": \"conventional\"},\n",
    "}\n",
    "\n",
    "# 物性方法\n",
    "property_method = \"PC-SAFT\"\n",
    "\n",
    "# 创建流程\n",
    "fs = Flowsheet(components, None, property_method)\n",
    "\n",
    "# 添加单元模块\n",
    "# 添加混合器\n",
    "exc = MHeatX()\n",
    "fs.add_block(exc)"
   ]
  },
  {
   "cell_type": "code",
   "execution_count": 3,
   "metadata": {},
   "outputs": [],
   "source": [
    "# 添加流股\n",
    "s1 = MaterialStream(source=None, destination=exc.hot_inlet)\n",
    "fs.add_stream(s1)\n",
    "s2 = MaterialStream(source=None, destination=exc.hot_inlet)\n",
    "fs.add_stream(s2)\n",
    "s3 = MaterialStream(source=exc.hot_outlet, destination=None)\n",
    "fs.add_stream(s3)\n",
    "s4 = MaterialStream(source=exc.hot_outlet, destination=None)\n",
    "fs.add_stream(s4)\n",
    "s5 = MaterialStream(source=None, destination=exc.cold_inlet)\n",
    "fs.add_stream(s5)\n",
    "s6 = MaterialStream(source=None, destination=exc.cold_inlet)\n",
    "fs.add_stream(s6)\n",
    "s7 = MaterialStream(source=exc.cold_outlet, destination=None)\n",
    "fs.add_stream(s7)\n",
    "s8 = MaterialStream(source=exc.cold_outlet, destination=None)\n",
    "fs.add_stream(s8)"
   ]
  },
  {
   "cell_type": "code",
   "execution_count": 4,
   "metadata": {},
   "outputs": [],
   "source": [
    "# 设置混合器进料流股参数\n",
    "z1 = np.array([0.8, 0.2, 0])\n",
    "s1.input(373.15, 202650, None, 1/3.6, z1, \"Mass & Mass Frac\")\n",
    "\n",
    "z2 = np.array([0.5, 0.5, 0])\n",
    "s2.input(363.15, 506625, None, 2/3.6, z2, \"Mass & Mass Frac\")\n",
    "\n",
    "z5 = np.array([0, 0, 1])\n",
    "s5.input(293.15, 101325, None, 1/3.6, z5, \"Mass & Mass Frac\")\n",
    "\n",
    "z6 = np.array([0, 0, 1])\n",
    "s6.input(298.15, 101325, None, 2/3.6, z6, \"Mass & Mass Frac\")"
   ]
  },
  {
   "cell_type": "code",
   "execution_count": 5,
   "metadata": {},
   "outputs": [],
   "source": [
    "# 设置多流股换热器的操作参数\n",
    "specs = {\n",
    "    s1:{\"Outlet\": s3, \"Valid phases\":\"vapor-liquid\", \"spec\":{\"Temperature\":333.15}, \n",
    "            \"Pressure\":0, \"Duty estimate\":None, \"Max iter\":100, \"Tol\":1e-6},\n",
    "\n",
    "    s2:{\"Outlet\": s4, \"Valid phases\":\"vapor-liquid\", \"spec\":{\"Temperature\":333.15}, \n",
    "            \"Pressure\":0, \"Duty estimate\":None, \"Max iter\":100, \"Tol\":1e-6},\n",
    "\n",
    "    s5:{\"Outlet\": s7, \"Valid phases\":\"vapor-liquid\", \"spec\":None, \n",
    "            \"Pressure\":0, \"Duty estimate\":None, \"Max iter\":100, \"Tol\":1e-6},\n",
    "\n",
    "    s6:{\"Outlet\": s8, \"Valid phases\":\"vapor-liquid\", \"spec\":None, \n",
    "            \"Pressure\":0, \"Duty estimate\":None, \"Max iter\":100, \"Tol\":1e-6},\n",
    "}\n",
    "\n",
    "exc.input(specs)"
   ]
  },
  {
   "cell_type": "code",
   "execution_count": 6,
   "metadata": {},
   "outputs": [
    {
     "name": "stdout",
     "output_type": "stream",
     "text": [
      "运行时间：3.678950548171997秒\n"
     ]
    }
   ],
   "source": [
    "# 运行\n",
    "start = time.time()\n",
    "exc.run()\n",
    "end = time.time()\n",
    "\n",
    "print(\"运行时间：\"+str(end - start)+\"秒\")"
   ]
  },
  {
   "cell_type": "code",
   "execution_count": 7,
   "metadata": {},
   "outputs": [
    {
     "name": "stdout",
     "output_type": "stream",
     "text": [
      "Duty:  50826.00526369309\n",
      "Streams Results: \n",
      "+-----------------------+-------------------+--------------------+---------------------+--------------------+\n",
      "|      Inlet stream     |         S5        |         S6         |          S1         |         S2         |\n",
      "+-----------------------+-------------------+--------------------+---------------------+--------------------+\n",
      "|     Exchanger side    |        cold       |        cold        |         hot         |        hot         |\n",
      "|     Outlet stream     |         S7        |         S8         |          S3         |         S4         |\n",
      "|   Inlet temperature   |       293.15      |       298.15       |        373.15       |       363.15       |\n",
      "|     Inlet pressure    |       101325      |       101325       |        202650       |       506625       |\n",
      "|  Inlet vapor fraction |        0.0        |        0.0         |         1.0         |        1.0         |\n",
      "|   Outlet temperature  | 316.0202600300312 | 316.0202600300312  |        333.15       |       333.15       |\n",
      "|    Outlet pressure    |       101325      |       101325       |        202650       |       506625       |\n",
      "| Outlet vapor fraction |        0.0        |        0.0         |         1.0         |        1.0         |\n",
      "|          duty         |  19773.4691961566 | 31052.535430837423 | -19933.052298830924 | -30892.95296486217 |\n",
      "+-----------------------+-------------------+--------------------+---------------------+--------------------+\n"
     ]
    }
   ],
   "source": [
    "# 输出结果\n",
    "exc.print_results()"
   ]
  },
  {
   "cell_type": "code",
   "execution_count": 8,
   "metadata": {},
   "outputs": [
    {
     "name": "stdout",
     "output_type": "stream",
     "text": [
      "Stream Results: \n",
      "+--------------------------+---------------------+---------------------+----------------------+---------------------+------------------------+----------------------+----------------------+----------------------+\n",
      "|                          |          S1         |          S2         |          S3          |          S4         |           S5           |          S6          |          S7          |          S8          |\n",
      "+--------------------------+---------------------+---------------------+----------------------+---------------------+------------------------+----------------------+----------------------+----------------------+\n",
      "|           From           |                     |                     |          B1          |          B1         |                        |                      |          B1          |          B1          |\n",
      "|            To            |          B1         |          B1         |                      |                     |           B1           |          B1          |                      |                      |\n",
      "|          Phase           |        vapor        |        vapor        |        vapor         |        vapor        |         liquid         |        liquid        |        liquid        |        liquid        |\n",
      "|   Component Mole Flow    |                     |                     |                      |                     |                        |                      |                      |                      |\n",
      "|        Propylene         |  5.280866028231087  |  6.6010825352888585 |  5.280866028231087   |  6.6010825352888585 |          0.0           |         0.0          |         0.0          |         0.0          |\n",
      "|         Propane          |  1.2598625822526486 |  6.299312911263242  |  1.2598625822526486  |  6.299312911263242  |          0.0           |         0.0          |         0.0          |         0.0          |\n",
      "|          Water           |         0.0         |         0.0         |         0.0          |         0.0         |   15.419009739386665   |  30.83801947877333   |  15.419009739386665  |  30.83801947877333   |\n",
      "| Component Mole Fraction  |                     |                     |                      |                     |                        |                      |                      |                      |\n",
      "|        Propylene         |  0.8073819206879657 |  0.5116961385128032 |  0.8073819206879657  |  0.5116961385128032 |          0.0           |         0.0          |         0.0          |         0.0          |\n",
      "|         Propane          | 0.19261807931203437 |  0.4883038614871969 | 0.19261807931203437  |  0.4883038614871969 |          0.0           |         0.0          |         0.0          |         0.0          |\n",
      "|          Water           |         0.0         |         0.0         |         0.0          |         0.0         |          1.0           |         1.0          |         1.0          |         1.0          |\n",
      "|   Component Mass Flow    |                     |                     |                      |                     |                        |                      |                      |                      |\n",
      "|        Propylene         | 0.22222222222222224 |  0.2777777777777778 | 0.22222222222222224  |  0.2777777777777778 |          0.0           |         0.0          |         0.0          |         0.0          |\n",
      "|         Propane          | 0.05555555555555556 |  0.2777777777777778 | 0.055555555555555566 |  0.2777777777777778 |          0.0           |         0.0          |         0.0          |         0.0          |\n",
      "|          Water           |         0.0         |         0.0         |         0.0          |         0.0         |   0.2777777777777778   |  0.5555555555555556  | 0.27777777777777785  |  0.5555555555555557  |\n",
      "| Component Mass Fraction  |                     |                     |                      |                     |                        |                      |                      |                      |\n",
      "|        Propylene         |         0.8         |         0.5         |         0.8          |         0.5         |           0            |          0           |         0.0          |         0.0          |\n",
      "|         Propane          |         0.2         |         0.5         | 0.20000000000000004  |         0.5         |           0            |          0           |         0.0          |         0.0          |\n",
      "|          Water           |         0.0         |         0.0         |         0.0          |         0.0         |           1            |          1           |         1.0          |         1.0          |\n",
      "|        Mole Flow         |  6.540728610483736  |   12.9003954465521  |  6.540728610483736   |   12.9003954465521  |   15.419009739386665   |  30.83801947877333   |  15.419009739386665  |  30.83801947877333   |\n",
      "|        Mass Flow         |  0.2777777777777778 |  0.5555555555555556 |  0.2777777777777778  |  0.5555555555555556 |   0.2777777777777778   |  0.5555555555555556  | 0.27777777777777785  |  0.5555555555555557  |\n",
      "|       Volume Flow        | 0.09866281616638134 |  0.073646215642772  | 0.08756357220365596  | 0.06667735986185111 | 0.00030033166927558816 | 0.000602551617127212 | 0.000304685489051836 | 0.000609370978103672 |\n",
      "|       Temperature        |        373.15       |        363.15       |        333.15        |        333.15       |         293.15         |        298.15        |  316.0202600300312   |  316.0202600300312   |\n",
      "|         Pressure         |        202650       |        506625       |        202650        |        506625       |         101325         |        101325        |        101325        |        101325        |\n",
      "|      Vapor Fraction      |         1.0         |         1.0         |         1.0          |         1.0         |          0.0           |         0.0          |         0.0          |         0.0          |\n",
      "|     Liquid Fraction      |         0.0         |         0.0         |         0.0          |         0.0         |          1.0           |         1.0          |         1.0          |         1.0          |\n",
      "|      Mole Enthalpy       |  1482.0159645008903 |  -36280.4818566093  |  -1565.511839493522  |  -38675.21100215026 |   -284877.4233149874   | -284601.97102897655  |  -283595.0148120829  |  -283595.0148120829  |\n",
      "|      Mass Enthalpy       |  34896.47119273664  |  -842458.6132950936 | -36862.517083054685  |  -898065.9286318456 |  -15813099.952650605   |  -15797810.02731995  |  -15741915.46354444  |  -15741915.46354444  |\n",
      "|      Enthalpy Flow       |  9693.464220204622  | -468032.56294171873 | -10239.588078626302  |  -498925.5159065809 |   -4392527.764625168   |  -8776561.126288861  |  -4372754.295429012  |  -8745508.590858024  |\n",
      "|       Mole Entropy       | -152.40000927070642 | -197.88572451023845 | -161.03210230347577  | -204.76547565434657 |  -160.33071233468172   | -159.39901967413255  | -156.11956653473396  | -156.11956653473396  |\n",
      "|       Mass Entropy       |  -3588.505563149626 |  -4595.047378937177 | -3791.7622034736764  |  -4754.800097536333 |   -8899.706934040532   |  -8847.99013249489   |  -8665.952820868391  |  -8665.952820868391  |\n",
      "|      Molar Density       |  66.29375548589341  |  175.1671193687222  |  74.69691386357862   |  193.47489872545108 |   51339.93952944731    |  51179.050229422486  |  50606.31468656335   |  50606.31468656335   |\n",
      "|       Mass Density       |  2.8154251882425854 |  7.543572343897897  |  3.1722983746222724  |  8.331996898296689  |   924.9033858060615    |  922.0049200171104   |  911.6869288465512   |  911.6869288465512   |\n",
      "| Average Molecular Weight |  42.468934933723546 |  43.06500198829481  |  42.468934933723546  |  43.06500198829481  |        18.01528        |       18.01528       |       18.01528       |       18.01528       |\n",
      "+--------------------------+---------------------+---------------------+----------------------+---------------------+------------------------+----------------------+----------------------+----------------------+\n",
      "\n",
      " S1 Component Attributes: \n",
      "{}\n",
      "\n",
      " S2 Component Attributes: \n",
      "{}\n",
      "\n",
      " S3 Component Attributes: \n",
      "{}\n",
      "\n",
      " S4 Component Attributes: \n",
      "{}\n",
      "\n",
      " S5 Component Attributes: \n",
      "{}\n",
      "\n",
      " S6 Component Attributes: \n",
      "{}\n",
      "\n",
      " S7 Component Attributes: \n",
      "{}\n",
      "\n",
      " S8 Component Attributes: \n",
      "{}\n"
     ]
    }
   ],
   "source": [
    "# 输出结果\n",
    "exc.print_stream_results()"
   ]
  }
 ],
 "metadata": {
  "interpreter": {
   "hash": "a8f61be024eba58adef938c9aa1e29e02cb3dece83a5348b1a2dafd16a070453"
  },
  "kernelspec": {
   "display_name": "Python 3.7.1 ('base')",
   "language": "python",
   "name": "python3"
  },
  "language_info": {
   "codemirror_mode": {
    "name": "ipython",
    "version": 3
   },
   "file_extension": ".py",
   "mimetype": "text/x-python",
   "name": "python",
   "nbconvert_exporter": "python",
   "pygments_lexer": "ipython3",
   "version": "3.7.1"
  },
  "orig_nbformat": 4
 },
 "nbformat": 4,
 "nbformat_minor": 2
}
