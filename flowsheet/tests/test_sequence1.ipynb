{
 "cells": [
  {
   "cell_type": "markdown",
   "metadata": {},
   "source": [
    "测试序贯求解算法\n",
    "\n",
    "案例1\n",
    "\n",
    "![avatar](image/graph1.png)"
   ]
  },
  {
   "cell_type": "code",
   "execution_count": null,
   "metadata": {},
   "outputs": [],
   "source": [
    "from polymer_model.flowsheet.sequence import *\n",
    "\n",
    "blocks = [0, 1, 2, 3, 4, 5]\n",
    "matrix = [[0, 1, 0, 1, 0, 0],\n",
    "        [0, 0, 1, 0, 0, 0],\n",
    "        [0, 0, 0, 0, 0, 0],\n",
    "        [0, 0, 0, 0, 1, 0],\n",
    "        [0, 0, 0, 0, 0, 1],\n",
    "        [1, 0, 0, 0, 0, 0]]\n",
    "print(\"回路为: \", find_cycles_blocks(blocks, matrix))\n",
    "print(\"分割前求解顺序: \", block_sequence(blocks, matrix))\n",
    "print(\"撕裂物流: \", calculate_sequence(blocks, matrix)[1])\n",
    "print(\"分割后求解顺序: \", calculate_sequence(blocks, matrix)[0])"
   ]
  },
  {
   "cell_type": "markdown",
   "metadata": {},
   "source": [
    "案例2: 《化工过程模拟——理论与实践》(邱彤 主编) 第10-11页\n",
    "\n",
    "![avatar](image/graph3.jpg)"
   ]
  },
  {
   "cell_type": "code",
   "execution_count": null,
   "metadata": {},
   "outputs": [],
   "source": [
    "blocks = list(range(1,10))\n",
    "matrix = [\n",
    "        [0, 1, 0, 0, 0, 0, 0, 0, 0],\n",
    "        [0, 0, 1, 0, 0, 0, 0, 0, 0],\n",
    "        [1, 0, 0, 1, 1, 0, 0, 0, 0],\n",
    "        [0, 1, 0, 0, 1, 0, 0, 0, 0],\n",
    "        [0, 0, 1, 0, 0, 1, 0, 0, 0],\n",
    "        [0, 0, 0, 0, 0, 0, 1, 0, 0],\n",
    "        [0, 0, 0, 0, 0, 1, 0, 1, 0],\n",
    "        [0, 0, 0, 0, 0, 0, 0, 0, 0],\n",
    "        [0, 1, 0, 0, 0, 0, 0, 0, 0]]\n",
    "print(\"回路为: \", find_cycles_blocks(blocks, matrix))\n",
    "print(\"分割前求解顺序: \", block_sequence(blocks, matrix))\n",
    "print(\"撕裂物流: \", calculate_sequence(blocks, matrix)[1]) \n",
    "print(\"分割后求解顺序: \", calculate_sequence(blocks, matrix)[0])"
   ]
  },
  {
   "cell_type": "markdown",
   "metadata": {},
   "source": [
    "案例3: 《化工过程模拟——理论与实践》(邱彤 主编) 第8-9页\n",
    "\n",
    "![avatar](image/graph4.jpg)"
   ]
  },
  {
   "cell_type": "code",
   "execution_count": null,
   "metadata": {},
   "outputs": [],
   "source": [
    "blocks = list(range(1,10))\n",
    "matrix = [\n",
    "        [0, 1, 0, 0, 0, 0, 0, 0, 0],\n",
    "        [0, 0, 1, 0, 0, 0, 0, 0, 0],\n",
    "        [0, 1, 0, 1, 0, 0, 0, 0, 0],\n",
    "        [0, 0, 0, 0, 1, 0, 0, 0, 0],\n",
    "        [0, 0, 0, 0, 0, 1, 0, 0, 0],\n",
    "        [0, 0, 0, 0, 0, 0, 1, 0, 0],\n",
    "        [0, 0, 0, 0, 1, 0, 0, 1, 0],\n",
    "        [0, 0, 0, 0, 0, 1, 0, 0, 1],\n",
    "        [0, 0, 0, 0, 0, 0, 0, 0, 0]]\n",
    "print(\"回路为: \", find_cycles_blocks(blocks, matrix))\n",
    "print(\"分割前求解顺序: \", block_sequence(blocks, matrix))\n",
    "print(\"撕裂物流: \", calculate_sequence(blocks, matrix)[1]) \n",
    "print(\"分割后求解顺序: \", calculate_sequence(blocks, matrix)[0])"
   ]
  },
  {
   "cell_type": "markdown",
   "metadata": {},
   "source": [
    "案例4: 《化工过程模拟——理论与实践》(邱彤 主编) 第11-12页\n",
    "\n",
    "![avatar](image/graph5.jpg)"
   ]
  },
  {
   "cell_type": "code",
   "execution_count": null,
   "metadata": {},
   "outputs": [],
   "source": [
    "blocks = list(range(1,8))\n",
    "matrix = [\n",
    "        [0, 1, 0, 0, 0, 0, 0],\n",
    "        [0, 0, 1, 0, 0, 0, 0],\n",
    "        [0, 0, 0, 1, 0, 0, 1],\n",
    "        [0, 0, 0, 0, 0, 0, 0],\n",
    "        [0, 0, 0, 0, 0, 1, 0],\n",
    "        [0, 1, 0, 0, 0, 0, 0],\n",
    "        [0, 0, 0, 0, 0, 1, 0]]\n",
    "print(\"回路为: \", find_cycles_blocks(blocks, matrix))\n",
    "print(\"分割前求解顺序: \", block_sequence(blocks, matrix))\n",
    "print(\"撕裂物流: \", calculate_sequence(blocks, matrix)[1]) \n",
    "print(\"分割后求解顺序: \", calculate_sequence(blocks, matrix)[0])"
   ]
  },
  {
   "cell_type": "markdown",
   "metadata": {},
   "source": [
    "其他案例\n",
    "\n",
    "![avatar](image/graph2.gif)"
   ]
  },
  {
   "cell_type": "code",
   "execution_count": null,
   "metadata": {},
   "outputs": [],
   "source": [
    "matrix = [[0,1,1,0,0,0,0],  \n",
    "        [0,0,0,1,0,0,0],  \n",
    "        [0,0,0,0,0,1,0],  \n",
    "        [0,0,0,0,1,0,0],  \n",
    "        [0,0,1,0,0,0,0],  \n",
    "        [0,0,0,0,1,0,1],  \n",
    "        [1,0,1,0,0,0,0]]\n",
    "print(\"回路为: \", find_cycles(matrix))"
   ]
  }
 ],
 "metadata": {
  "interpreter": {
   "hash": "a8f61be024eba58adef938c9aa1e29e02cb3dece83a5348b1a2dafd16a070453"
  },
  "kernelspec": {
   "display_name": "Python 3.7.1 ('base')",
   "language": "python",
   "name": "python3"
  },
  "language_info": {
   "codemirror_mode": {
    "name": "ipython",
    "version": 3
   },
   "file_extension": ".py",
   "mimetype": "text/x-python",
   "name": "python",
   "nbconvert_exporter": "python",
   "pygments_lexer": "ipython3",
   "version": "3.7.1"
  },
  "orig_nbformat": 4
 },
 "nbformat": 4,
 "nbformat_minor": 2
}
