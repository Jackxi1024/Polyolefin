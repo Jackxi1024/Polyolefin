{
 "cells": [
  {
   "cell_type": "markdown",
   "metadata": {},
   "source": [
    "测试CSTR反应器中Ziegler-Natta催化聚合反应的模型求解\n",
    "\n",
    "案例二: 溶液法生产HDPE\n",
    "\n",
    "![avatar](2.png)\n",
    "\n",
    "本案例Aspen文件为 案例2: hdpe_cstr\n",
    "\n",
    "本案例为高压溶液法, 2个CSTR反应器中均为液相\n",
    "\n",
    "CSTR-1的进料中无聚合物, CSTR-2的进料中含有聚合物，需要计算累计链长分布和累计分子量分布"
   ]
  },
  {
   "cell_type": "code",
   "execution_count": null,
   "metadata": {},
   "outputs": [],
   "source": [
    "# 导包\n",
    "import numpy as np\n",
    "from polymer_model.kinetics.ziegler_nat.cstr import *"
   ]
  },
  {
   "cell_type": "code",
   "execution_count": null,
   "metadata": {},
   "outputs": [],
   "source": [
    "# 反应器1的计算\n",
    "# 设置组分\n",
    "components = {\n",
    "    \"C2H4\": {\"type\": \"conventional\"},\n",
    "    \"H2\": {\"type\": \"conventional\"},\n",
    "    \"Hexane\": {\"type\": \"conventional\"},\n",
    "    \"HDPE\": {\"type\": \"polymer\"},\n",
    "    \"TiCl4\": {\"type\": \"conventional\"},\n",
    "    \"TEA\": {\"type\": \"conventional\"},\n",
    "    \"C2H4-R\": {\"type\": \"segment\"},\n",
    "}\n",
    "\n",
    "# 设置聚合物链段\n",
    "segments = {\"C2H4-R\":{\"type\": \"repeat\"}}\n",
    "\n",
    "# 设置催化剂\n",
    "catalyst = {\"TiCl4\": {\"type\": \"Z-N\", \n",
    "                    \"site_types_num\":4,   # 位点数\n",
    "                    \"site_conc\":0.1,      # 位点浓度, mol/kgcat\n",
    "            }}\n",
    "\n",
    "ploymers = {\n",
    "    \"segments\": segments,\n",
    "    \"catalyst\": catalyst,\n",
    "}"
   ]
  },
  {
   "cell_type": "code",
   "execution_count": null,
   "metadata": {},
   "outputs": [],
   "source": [
    "# 设置进料参数: 温度、压力、摩尔流量、摩尔分数、催化剂各位点流量、入口聚合物各阶矩流量\n",
    "feed = {\n",
    "    \"T\": 70+273.15,\n",
    "    \"P\": 20265000,\n",
    "    \"Mole Flow\": 233.4925,  \n",
    "    \"Mole Fraction\": {\n",
    "        \"C2H4\": 0.2544396,\n",
    "        \"H2\": 0.000177044,\n",
    "        \"Hexane\": 0.7452519,\n",
    "        \"HDPE\": 0,\n",
    "        \"TiCl4\": 3.76296E-05,\n",
    "        \"TEA\": 9.37838E-05,\n",
    "    },\n",
    "    \"TiCl4\": {\n",
    "        \"CPSFLOW\":0.000166667, \n",
    "        \"CDSFLOW\":0, \n",
    "        \"CISFLOW\":np.array([0, 0, 0, 0]), \n",
    "        \"CVSFLOW\":np.array([0, 0, 0, 0])\n",
    "    },\n",
    "    \"HDPE\": {\n",
    "        \"LSZMOM\": np.array([0, 0, 0, 0]),\n",
    "        \"DSZMOM\": np.array([0, 0, 0, 0]),\n",
    "        \"LSFMOM\": np.array([0, 0, 0, 0]),\n",
    "        \"DSFMOM\": np.array([0, 0, 0, 0]),\n",
    "        \"LSSMOM\": np.array([0, 0, 0, 0]),\n",
    "        \"DSSMOM\": np.array([0, 0, 0, 0]),\n",
    "    }\n",
    "}"
   ]
  },
  {
   "cell_type": "code",
   "execution_count": null,
   "metadata": {},
   "outputs": [],
   "source": [
    "# 设置Z-N反应物种\n",
    "species = { \"polymer\": \"HDPE\",\n",
    "            \"tdb segment\": None,\n",
    "            \"monomers\": \"C2H4\",\n",
    "            \"segments\": \"C2H4-R\",\n",
    "            \"precatalyst\": None,\n",
    "            \"catalyst\": \"TiCl4\",\n",
    "            \"cocatalysts\": \"TEA\",\n",
    "            \"solvents\": \"Hexane\",\n",
    "            \"transfer agent\": None,\n",
    "            \"hydrogens\": \"H2\",\n",
    "            \"poisons\": None,\n",
    "            \"elec don\": None,\n",
    "            \"byproduct\": None,\n",
    "        }"
   ]
  },
  {
   "cell_type": "code",
   "execution_count": null,
   "metadata": {},
   "outputs": [],
   "source": [
    "# 设置Ziegler-Natta反应动力学参数\n",
    "# 反应类型, 催化位点, 组分1, 组分2, 前指因子, 活化能, 反应级数, 终端双键分数, 参考温度\n",
    "r1 = [[\"Act-Spon\", 1, \"TiCl4\", None, 0.08, 0, 1, None, 1e35],\n",
    "    [\"Act-Spon\", 2, \"TiCl4\", None, 0.08, 0, 1, None, 1e35],\n",
    "    [\"Act-Spon\", 3, \"TiCl4\", None, 0, 0, 1, None, 1e35],\n",
    "    [\"Act-Spon\", 4, \"TiCl4\", None, 0, 0, 1, None, 1e35],\n",
    "    [\"Act-Cocat\", 1, \"TiCl4\", \"TEA\", 0.15/1000, 0, 1, None, 1e35],\n",
    "    [\"Act-Cocat\", 2, \"TiCl4\", \"TEA\", 0.15/1000, 0, 1, None, 1e35],\n",
    "    [\"Act-Cocat\", 3, \"TiCl4\", \"TEA\", 0, 0, 1, None, 1e35],\n",
    "    [\"Act-Cocat\", 4, \"TiCl4\", \"TEA\", 0, 0, 1, None, 1e35],\n",
    "    [\"Chain-Ini\", 1, \"C2H4\", None, 255/1000, 0, 1, None, 1e35],\n",
    "    [\"Chain-Ini\", 2, \"C2H4\", None, 90/1000,   0, 1, None, 1e35],\n",
    "    [\"Chain-Ini\", 3, \"C2H4\", None, 0,  0, 1, None, 1e35],\n",
    "    [\"Chain-Ini\", 4, \"C2H4\", None, 0,  0, 1, None, 1e35],\n",
    "    [\"Propagation\", 1, \"C2H4-R\", \"C2H4\", 255/1000,  0, 1, None, 1e35],\n",
    "    [\"Propagation\", 2, \"C2H4-R\", \"C2H4\", 90/1000,  0, 1, None, 1e35],\n",
    "    [\"Propagation\", 3, \"C2H4-R\", \"C2H4\", 0,  0, 1, None, 1e35],\n",
    "    [\"Propagation\", 4, \"C2H4-R\", \"C2H4\", 0,  0, 1, None, 1e35],\n",
    "    [\"Chat-Mon\", 1, \"C2H4-R\", \"C2H4\", 0.09/1000,  0, 1, None, 1e35],\n",
    "    [\"Chat-Mon\", 2, \"C2H4-R\", \"C2H4\", 0.24/1000,  0, 1, None, 1e35],\n",
    "    [\"Chat-Mon\", 3, \"C2H4-R\", \"C2H4\", 0,  0, 1, None, 1e35],\n",
    "    [\"Chat-Mon\", 4, \"C2H4-R\", \"C2H4\", 0,  0, 1, None, 1e35],\n",
    "    [\"Chat-H2\", 1, \"C2H4-R\", \"H2\", 5.55/1000,  0, 1, None, 1e35],\n",
    "    [\"Chat-H2\", 2, \"C2H4-R\", \"H2\", 18.5/1000,  0, 1, None, 1e35],\n",
    "    [\"Chat-H2\", 3, \"C2H4-R\", \"H2\", 0,  0, 1, None, 1e35],\n",
    "    [\"Chat-H2\", 4, \"C2H4-R\", \"H2\", 0,  0, 1, None, 1e35],\n",
    "    [\"Chat-Spon\", 1, \"C2H4-R\", None, 0.004,  0, 1, None, 1e35],\n",
    "    [\"Chat-Spon\", 2, \"C2H4-R\", None, 0.012,  0, 1, None, 1e35],\n",
    "    [\"Chat-Spon\", 3, \"C2H4-R\", None, 0,  0, 1, None, 1e35],\n",
    "    [\"Chat-Spon\", 4, \"C2H4-R\", None, 0,  0, 1, None, 1e35],\n",
    "    [\"Deact-Spon\", 1, None, None, 0.0001,  0, 1, None, 1e35],\n",
    "    [\"Deact-Spon\", 2, None, None, 0.0006,  0, 1, None, 1e35],\n",
    "    [\"Deact-Spon\", 3, None, None, 0,  0, 1, None, 1e35],\n",
    "    [\"Deact-Spon\", 4, None, None, 0,  0, 1, None, 1e35]]"
   ]
  },
  {
   "cell_type": "code",
   "execution_count": null,
   "metadata": {},
   "outputs": [],
   "source": [
    "# 设置反应器参数\n",
    "CSTR = {\n",
    "    \"P\": 20265000,\n",
    "    \"T\": 433.15,\n",
    "    \"Valid phases\": \"L\",\n",
    "    \"Specification type\": \"Reactor volume\",\n",
    "    \"Reactor volume\": 60,\n",
    "    \"Reactions\": {\"Type\":\"Z-N\", \n",
    "                    \"Species\":species, \n",
    "                    \"Reactions\":r1,\n",
    "                    \"Reacting phase\": \"liq\"\n",
    "                }\n",
    "}"
   ]
  },
  {
   "cell_type": "code",
   "execution_count": null,
   "metadata": {},
   "outputs": [],
   "source": [
    "# 各组分参数：链段数m、链段直径s、能量参数e、偏心因子w、临界温度Tc、临界压力Pc、相对分子质量mw\n",
    "# 组分：\"C2H4\", \"H2\", \"Hexane\", \"HDPE\", \"TICL4\", \"TEA\" \n",
    "args = {\"m\": np.array([1.593, 0.8285, 3.0576, 0.04132, 30, 30]),\n",
    "        \"s\": np.array([3.445, 2.9729, 3.7983, 3.4751, 3.7983, 3.7983]),\n",
    "        \"e\": np.array([176.47, 12.53, 236.77, 267.1854, 236.77, 236.77]),\n",
    "        \"w\": np.array([0.0862484, -0.215993, 0.301261, 0, 0.283732, 0.841783]), \n",
    "        \"Tc\": np.array([282.34, 33.19, 507.6, 2000, 638, 678.15]), \n",
    "        \"Pc\": np.array([5041000, 1313000, 3025000, 5000000, 4660950, 8930000]), \n",
    "        \"mw\": np.array([28.05376, 2.01588, 86.17716, 28.05376, 189.6908, 114.16664])}"
   ]
  },
  {
   "cell_type": "code",
   "execution_count": null,
   "metadata": {},
   "outputs": [],
   "source": [
    "# 运行计算程序，输出反应器1出口流量、组成、各位点各阶矩\n",
    "NC, Ns, sol = cstr_run(components,args, ploymers, feed, CSTR)\n",
    "print_result(NC, Ns, sol)"
   ]
  },
  {
   "cell_type": "code",
   "execution_count": null,
   "metadata": {},
   "outputs": [],
   "source": [
    "# 计算链长分布\n",
    "n = get_points(Np=100, upper=100000)\n",
    "eqs, τ1, SFMOM1, mw = model(sol.x, components,args, ploymers, feed, CSTR) \n",
    "w1 = cld(τ1, SFMOM1, n, GPC=True)\n",
    "print(\"局部链长分布: \")\n",
    "# 输出每个位点前8个数据, 其中第一行为各位点总和\n",
    "print(w1[:, 0:8])   "
   ]
  },
  {
   "cell_type": "code",
   "execution_count": null,
   "metadata": {},
   "outputs": [],
   "source": [
    "# 绘制链长分布图\n",
    "cld_plot(n, w1)"
   ]
  },
  {
   "cell_type": "code",
   "execution_count": null,
   "metadata": {},
   "outputs": [],
   "source": [
    "# 计算分子量分布\n",
    "Mn = n*mw\n",
    "w1 = mwd(τ1, SFMOM1, mw, Mn)\n",
    "print(\"局部分子量分布: \")\n",
    "# 输出每个位点前8个数据, 其中第一行为各位点总和\n",
    "print(w1[:, 0:8])   "
   ]
  },
  {
   "cell_type": "code",
   "execution_count": null,
   "metadata": {},
   "outputs": [],
   "source": [
    "# 绘制分子量分布图\n",
    "mwd_plot(Mn,w1)"
   ]
  },
  {
   "cell_type": "markdown",
   "metadata": {},
   "source": [
    "![avatar](2.png)\n",
    "\n",
    "反应器2的计算:\n",
    "\n",
    "1、反应器2的进料加入了催化剂，其动力学参数跟反应器1不同\n",
    "\n",
    "2、反应器2的进料中含有聚合物，需要计算累计链长分布和累计分子量分布"
   ]
  },
  {
   "cell_type": "code",
   "execution_count": null,
   "metadata": {},
   "outputs": [],
   "source": [
    "# 设置进料\n",
    "feed = {\n",
    "    \"T\": 420.8373,\n",
    "    \"P\": 20265000,\n",
    "    \"Mole Flow\": 279.3458,  \n",
    "    \"Mole Fraction\": {\n",
    "        \"C2H4\": 0.1578732,\n",
    "        \"H2\": 0.00112434,\n",
    "        \"Hexane\": 0.7151809,\n",
    "        \"HDPE\": 0.1256934,\n",
    "        \"TiCl4\": 3.6695E-05,\n",
    "        \"TEA\": 9.14537E-05,\n",
    "    },\n",
    "    \"TiCl4\": {\n",
    "        \"CPSFLOW\":2.8288E-05, \n",
    "        \"CDSFLOW\":5.96785E-05, \n",
    "        \"CISFLOW\":np.array([0, 0, 0, 0]), \n",
    "        \"CVSFLOW\":np.array([3.89092E-09, 1.87948E-08, 0, 0])\n",
    "    },\n",
    "    \"HDPE\": {\n",
    "        \"LSZMOM\": np.array([6.90417e-5, 3.74136e-5, 0, 0]),\n",
    "        \"DSZMOM\": np.array([0.01198435, 0.01781174, 0, 0]),\n",
    "        \"LSFMOM\": np.array([0.16875323, 0.01184358, 0, 0]),\n",
    "        \"DSFMOM\": np.array([29.29231847,  5.63840611, 0, 0]),\n",
    "        \"LSSMOM\": np.array([824.76960288, 7.48645714, 0, 0]),\n",
    "        \"DSSMOM\": np.array([143164.15637489, 3564.09879474, 0, 0]),\n",
    "    }\n",
    "}"
   ]
  },
  {
   "cell_type": "code",
   "execution_count": null,
   "metadata": {},
   "outputs": [],
   "source": [
    "# 设置Ziegler-Natta反应动力学参数\n",
    "# 反应类型, 催化位点, 组分1, 组分2, 前指因子, 活化能, 反应级数, 终端双键分数, 参考温度\n",
    "r1 = [[\"Act-Spon\", 1, \"TiCl4\", None, 0.08, 0, 1, None, 1e35],\n",
    "    [\"Act-Spon\", 2, \"TiCl4\", None, 0.08, 0, 1, None, 1e35],\n",
    "    [\"Act-Spon\", 3, \"TiCl4\", None, 0.08, 0, 1, None, 1e35],\n",
    "    [\"Act-Spon\", 4, \"TiCl4\", None, 0.08, 0, 1, None, 1e35],\n",
    "    [\"Act-Cocat\", 1, \"TiCl4\", \"TEA\", 0.15/1000, 0, 1, None, 1e35],\n",
    "    [\"Act-Cocat\", 2, \"TiCl4\", \"TEA\", 0.15/1000, 0, 1, None, 1e35],\n",
    "    [\"Act-Cocat\", 3, \"TiCl4\", \"TEA\", 0.15/1000, 0, 1, None, 1e35],\n",
    "    [\"Act-Cocat\", 4, \"TiCl4\", \"TEA\", 0.15/1000, 0, 1, None, 1e35],\n",
    "    [\"Chain-Ini\", 1, \"C2H4\", None, 255/1000, 0, 1, None, 1e35],\n",
    "    [\"Chain-Ini\", 2, \"C2H4\", None, 90/1000,   0, 1, None, 1e35],\n",
    "    [\"Chain-Ini\", 3, \"C2H4\", None, 255/1000,  0, 1, None, 1e35],\n",
    "    [\"Chain-Ini\", 4, \"C2H4\", None, 90/1000,  0, 1, None, 1e35],\n",
    "    [\"Propagation\", 1, \"C2H4-R\", \"C2H4\", 255/1000,  0, 1, None, 1e35],\n",
    "    [\"Propagation\", 2, \"C2H4-R\", \"C2H4\", 90/1000,  0, 1, None, 1e35],\n",
    "    [\"Propagation\", 3, \"C2H4-R\", \"C2H4\", 255/1000,  0, 1, None, 1e35],\n",
    "    [\"Propagation\", 4, \"C2H4-R\", \"C2H4\", 90/1000,  0, 1, None, 1e35],\n",
    "    [\"Chat-Mon\", 1, \"C2H4-R\", \"C2H4\", 0.09/1000,  0, 1, None, 1e35],\n",
    "    [\"Chat-Mon\", 2, \"C2H4-R\", \"C2H4\", 0.24/1000,  0, 1, None, 1e35],\n",
    "    [\"Chat-Mon\", 3, \"C2H4-R\", \"C2H4\", 0.09/1000,  0, 1, None, 1e35],\n",
    "    [\"Chat-Mon\", 4, \"C2H4-R\", \"C2H4\", 0.24/1000,  0, 1, None, 1e35],\n",
    "    [\"Chat-H2\", 1, \"C2H4-R\", \"H2\", 5.55/1000,  0, 1, None, 1e35],\n",
    "    [\"Chat-H2\", 2, \"C2H4-R\", \"H2\", 18.5/1000,  0, 1, None, 1e35],\n",
    "    [\"Chat-H2\", 3, \"C2H4-R\", \"H2\", 5.55/1000,  0, 1, None, 1e35],\n",
    "    [\"Chat-H2\", 4, \"C2H4-R\", \"H2\", 18.5/1000,  0, 1, None, 1e35],\n",
    "    [\"Chat-Spon\", 1, \"C2H4-R\", None, 0.004,  0, 1, None, 1e35],\n",
    "    [\"Chat-Spon\", 2, \"C2H4-R\", None, 0.012,  0, 1, None, 1e35],\n",
    "    [\"Chat-Spon\", 3, \"C2H4-R\", None, 0.004,  0, 1, None, 1e35],\n",
    "    [\"Chat-Spon\", 4, \"C2H4-R\", None, 0.012,  0, 1, None, 1e35],\n",
    "    [\"Deact-Spon\", 1, None, None, 0.0001,  0, 1, None, 1e35],\n",
    "    [\"Deact-Spon\", 2, None, None, 0.0006,  0, 1, None, 1e35],\n",
    "    [\"Deact-Spon\", 3, None, None, 0.0001,  0, 1, None, 1e35],\n",
    "    [\"Deact-Spon\", 4, None, None, 0.0006,  0, 1, None, 1e35]]"
   ]
  },
  {
   "cell_type": "code",
   "execution_count": null,
   "metadata": {},
   "outputs": [],
   "source": [
    "# 设置反应器参数\n",
    "CSTR = {\n",
    "    \"P\": 20265000,\n",
    "    \"T\": 433.15,\n",
    "    \"Valid phases\": \"L\",\n",
    "    \"Specification type\": \"Reactor volume\",\n",
    "    \"Reactor volume\": 60,\n",
    "    \"Reactions\": {\"Type\":\"Z-N\", \n",
    "                    \"Species\":species, \n",
    "                    \"Reactions\":r1,\n",
    "                    \"Reacting phase\": \"liq\"\n",
    "                }\n",
    "}"
   ]
  },
  {
   "cell_type": "code",
   "execution_count": null,
   "metadata": {},
   "outputs": [],
   "source": [
    "# 运行计算程序，输出反应器2出口流量、组成、各位点各阶矩\n",
    "NC, Ns, sol = cstr_run(components,args, ploymers, feed, CSTR)\n",
    "print_result(NC, Ns, sol)"
   ]
  },
  {
   "cell_type": "code",
   "execution_count": null,
   "metadata": {},
   "outputs": [],
   "source": [
    "# 计算反应器2的局部链长分布\n",
    "n = get_points(Np=100, upper=100000)\n",
    "eqs, τ2, SFMOM2, mw = model(sol.x, components,args, ploymers, feed, CSTR) \n",
    "w2 = cld(τ2, SFMOM2, n, GPC=True)\n",
    "print(\"局部链长分布: \")\n",
    "print(w2[:, 0:8])"
   ]
  },
  {
   "cell_type": "code",
   "execution_count": null,
   "metadata": {},
   "outputs": [],
   "source": [
    "# 绘制反应器2的局部链长分布图\n",
    "cld_plot(n, w2)"
   ]
  },
  {
   "cell_type": "code",
   "execution_count": null,
   "metadata": {},
   "outputs": [],
   "source": [
    "# 计算反应器2的局部分子量分布\n",
    "Mn = n*mw\n",
    "w2 = mwd(τ2, SFMOM2, mw, Mn)\n",
    "print(\"局部分子量分布: \")\n",
    "print(w2[:, 0:8])"
   ]
  },
  {
   "cell_type": "code",
   "execution_count": null,
   "metadata": {},
   "outputs": [],
   "source": [
    "# 绘制反应器2的局部分子量分布图\n",
    "mwd_plot(Mn, w2)"
   ]
  },
  {
   "cell_type": "code",
   "execution_count": null,
   "metadata": {},
   "outputs": [],
   "source": [
    "# 计算反应器2的累计链长分布\n",
    "w = cld_cum(τ1, SFMOM1, τ2, SFMOM2, n, GPC=True)\n",
    "print(\"累计链长分布: \")\n",
    "print(w[:, 0:8])"
   ]
  },
  {
   "cell_type": "code",
   "execution_count": null,
   "metadata": {},
   "outputs": [],
   "source": [
    "# 绘制累计链长分布图\n",
    "cld_plot(n, w)"
   ]
  },
  {
   "cell_type": "code",
   "execution_count": null,
   "metadata": {},
   "outputs": [],
   "source": [
    "# 计算反应器2的累计分子量分布\n",
    "w = mwd_cum(τ1, SFMOM1, τ2, SFMOM2, mw, Mn)\n",
    "print(\"累计分子量分布: \")\n",
    "print(w[:, 0:8])"
   ]
  },
  {
   "cell_type": "code",
   "execution_count": null,
   "metadata": {},
   "outputs": [],
   "source": [
    "# 绘制累计分子量分布图\n",
    "mwd_plot(Mn, w)"
   ]
  }
 ],
 "metadata": {
  "interpreter": {
   "hash": "a8f61be024eba58adef938c9aa1e29e02cb3dece83a5348b1a2dafd16a070453"
  },
  "kernelspec": {
   "display_name": "Python 3.7.1 ('base')",
   "language": "python",
   "name": "python3"
  },
  "language_info": {
   "codemirror_mode": {
    "name": "ipython",
    "version": 3
   },
   "file_extension": ".py",
   "mimetype": "text/x-python",
   "name": "python",
   "nbconvert_exporter": "python",
   "pygments_lexer": "ipython3",
   "version": "3.7.1"
  },
  "orig_nbformat": 4
 },
 "nbformat": 4,
 "nbformat_minor": 2
}
