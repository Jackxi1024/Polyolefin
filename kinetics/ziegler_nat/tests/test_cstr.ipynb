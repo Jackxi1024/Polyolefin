{
 "cells": [
  {
   "cell_type": "markdown",
   "metadata": {},
   "source": [
    "测试CSTR反应器中Ziegler-Natta催化聚合反应的模型求解\n",
    "\n",
    "案例一: 浆液法生产聚丙烯\n",
    "\n",
    "![avatar](1.png)\n",
    "\n",
    "本案例Aspen文件为 “案例1: pp_cstr”\n",
    "\n",
    "本案例只计算反应器出口，不涉及其他单元。反应器含有气液两相，需耦合相平衡计算。"
   ]
  },
  {
   "cell_type": "code",
   "execution_count": 51,
   "metadata": {},
   "outputs": [],
   "source": [
    "# 导包\n",
    "import numpy as np\n",
    "from polymer_model.kinetics.ziegler_nat.cstr2 import *\n",
    "from polymer_model.thermodynamics.args import args"
   ]
  },
  {
   "cell_type": "code",
   "execution_count": 52,
   "metadata": {},
   "outputs": [],
   "source": [
    "# 设置参数\n",
    "# 设置组分参数：C3H6、C3H8、H2、N2、PP、TiCl4、TEA、C3H6-R\n",
    "components = {\n",
    "    \"C3H6\": {\"type\": \"conventional\"},\n",
    "    \"C3H8\": {\"type\": \"conventional\"},\n",
    "    \"H2\": {\"type\": \"conventional\"},\n",
    "    \"N2\": {\"type\": \"conventional\"},\n",
    "    \"PP\": {\"type\": \"polymer\"},\n",
    "    \"TiCl4\": {\"type\": \"conventional\"},\n",
    "    \"TEA\": {\"type\": \"conventional\"},\n",
    "    \"C3H6-R\": {\"type\": \"segment\"},\n",
    "}\n",
    "\n",
    "# 设置聚合物链段\n",
    "segments = {\"C3H6-R\":{\"type\": \"repeat\"}}\n",
    "\n",
    "# 设置催化剂\n",
    "catalyst = {\"TiCl4\": {\"type\": \"Z-N\",      # 催化剂类型\n",
    "                    \"site_types_num\":4,   # 位点数\n",
    "                    \"site_conc\":0.3,      # 位点浓度, mol/kgcat\n",
    "            }}\n",
    "\n",
    "# 设置聚合物\n",
    "polymers = {\n",
    "    \"segments\": segments,\n",
    "    \"catalyst\": catalyst,\n",
    "}"
   ]
  },
  {
   "cell_type": "code",
   "execution_count": 53,
   "metadata": {},
   "outputs": [],
   "source": [
    "# 设置进料参数: 温度、压力、摩尔流量、摩尔分数、催化剂各位点流量、入口聚合物各阶矩流量\n",
    "feed = {\n",
    "    \"T\": 333.1399,\n",
    "    \"P\": 3e6,\n",
    "    \"Mole Flow\": 7022.557,  \n",
    "    \"Mole Fraction\": {\n",
    "        \"C3H6\": 0.7707859,\n",
    "        \"C3H8\": 0.1435218,\n",
    "        \"H2\": 0.0784869,\n",
    "        \"N2\": 0.00720121,\n",
    "        \"PP\": 0,\n",
    "        \"TiCl4\": 6.25572E-07,\n",
    "        \"TEA\": 3.46468E-06,\n",
    "    },\n",
    "    \"TiCl4\": {\n",
    "        \"CPSFLOW\":0.00025, \n",
    "        \"CDSFLOW\":0, \n",
    "        \"CISFLOW\":np.array([0, 0, 0, 0]), \n",
    "        \"CVSFLOW\":np.array([0, 0, 0, 0])\n",
    "    },\n",
    "    \"PP\": {\n",
    "        \"LSZMOM\": np.array([0, 0, 0, 0]),\n",
    "        \"DSZMOM\": np.array([0, 0, 0, 0]),\n",
    "        \"LSFMOM\": np.array([0, 0, 0, 0]),\n",
    "        \"DSFMOM\": np.array([0, 0, 0, 0]),\n",
    "        \"LSSMOM\": np.array([0, 0, 0, 0]),\n",
    "        \"DSSMOM\": np.array([0, 0, 0, 0]),\n",
    "    }\n",
    "}"
   ]
  },
  {
   "cell_type": "code",
   "execution_count": 54,
   "metadata": {},
   "outputs": [],
   "source": [
    "# 设置Ziegler-Natta反应物种\n",
    "species = { \"polymer\": \"PP\",          # 聚合物\n",
    "            \"tdb segment\": None,      # 终端双键(用于计算支链)\n",
    "            \"monomers\": \"C3H6\",       # 单体\n",
    "            \"segments\": \"C3H6-R\",     # 链段\n",
    "            \"precatalyst\": None,      # 预催化剂\n",
    "            \"catalyst\": \"TiCl4\",      # 催化剂\n",
    "            \"cocatalysts\": \"TEA\",     # 助催化剂\n",
    "            \"solvents\": None,         # 溶剂\n",
    "            \"transfer agent\": None,   # 链转移剂\n",
    "            \"hydrogens\": \"H2\",        # 氢\n",
    "            \"poisons\": None,          # 毒物\n",
    "            \"elec don\": None,         # 电子供体\n",
    "            \"byproduct\": None,        # 副产物\n",
    "        }"
   ]
  },
  {
   "cell_type": "code",
   "execution_count": 55,
   "metadata": {},
   "outputs": [],
   "source": [
    "# 设置Ziegler-Natta反应动力学参数\n",
    "# 反应类型, 催化位点, 组分1, 组分2, 前指因子, 活化能, 反应级数, 终端双键分数, 参考温度\n",
    "r1 = [[\"Act-Spon\", 1, \"TiCl4\", None, 0.0013, 3.19872e4, 1, None, 343.15],\n",
    "    [\"Act-Spon\", 2, \"TiCl4\", None, 0.0013, 3.19872e4, 1, None, 343.15],\n",
    "    [\"Act-Spon\", 3, \"TiCl4\", None, 0.0013, 3.19872e4, 1, None, 343.15],\n",
    "    [\"Act-Spon\", 4, \"TiCl4\", None, 0.0013, 3.19872e4, 1, None, 343.15],\n",
    "    [\"Chain-Ini\", 1, \"C3H6\", None, 108.85/1000, 3.0145e4, 1, None, 343.15],\n",
    "    [\"Chain-Ini\", 2, \"C3H6\", None, 24.5/1000,   3.0145e4, 1, None, 343.15],\n",
    "    [\"Chain-Ini\", 3, \"C3H6\", None, 170.8/1000,  3.0145e4, 1, None, 343.15],\n",
    "    [\"Chain-Ini\", 4, \"C3H6\", None, 60.55/1000,  3.0145e4, 1, None, 343.15],\n",
    "    [\"Propagation\", 1, \"C3H6-R\", \"C3H6\", 108.85/1000,  3.0145e4, 1, None, 343.15],\n",
    "    [\"Propagation\", 2, \"C3H6-R\", \"C3H6\", 24.5/1000,  3.0145e4, 1, None, 343.15],\n",
    "    [\"Propagation\", 3, \"C3H6-R\", \"C3H6\", 170.8/1000,  3.0145e4, 1, None, 343.15],\n",
    "    [\"Propagation\", 4, \"C3H6-R\", \"C3H6\", 60.55/1000,  3.0145e4, 1, None, 343.15],\n",
    "    [\"Chat-Mon\", 1, \"C3H6-R\", \"C3H6\", 0.012/1000,  5.2e4, 1, None, 343.15],\n",
    "    [\"Chat-Mon\", 2, \"C3H6-R\", \"C3H6\", 0.012/1000,  5.2e4, 1, None, 343.15],\n",
    "    [\"Chat-Mon\", 3, \"C3H6-R\", \"C3H6\", 0.012/1000,  5.2e4, 1, None, 343.15],\n",
    "    [\"Chat-Mon\", 4, \"C3H6-R\", \"C3H6\", 0.012/1000,  5.2e4, 1, None, 343.15],\n",
    "    [\"Chat-Cocat\", 1, \"C3H6-R\", \"TEA\", 0.12/1000,  5.02416e4, 1, None, 343.15],\n",
    "    [\"Chat-Cocat\", 2, \"C3H6-R\", \"TEA\", 0.12/1000,  5.02416e4, 1, None, 343.15],\n",
    "    [\"Chat-Cocat\", 3, \"C3H6-R\", \"TEA\", 0.12/1000,  5.02416e4, 1, None, 343.15],\n",
    "    [\"Chat-Cocat\", 4, \"C3H6-R\", \"TEA\", 0.12/1000,  5.02416e4, 1, None, 343.15],\n",
    "    [\"Chat-H2\", 1, \"C3H6-R\", \"H2\", 4.8/1000,  4.47988e4, 1, None, 343.15],\n",
    "    [\"Chat-H2\", 2, \"C3H6-R\", \"H2\", 8.88/1000,  4.47988e4, 1, None, 343.15],\n",
    "    [\"Chat-H2\", 3, \"C3H6-R\", \"H2\", 2.64/1000,  4.47988e4, 1, None, 343.15],\n",
    "    [\"Chat-H2\", 4, \"C3H6-R\", \"H2\", 6.6/1000,  4.47988e4, 1, None, 343.15],\n",
    "    [\"Deact-Spon\", 1, None, None, 0.001,  4.1868e3, 1, None, 343.15],\n",
    "    [\"Deact-Spon\", 2, None, None, 0.001,  4.1868e3, 1, None, 343.15],\n",
    "    [\"Deact-Spon\", 3, None, None, 0.001,  4.1868e3, 1, None, 343.15],\n",
    "    [\"Deact-Spon\", 4, None, None, 0.001,  4.1868e3, 1, None, 343.15],\n",
    "    [\"Atact-Prop\", 1, \"C3H6-R\", \"C3H6\", 8/1000,  3.0145e4, 1, None, 343.15],\n",
    "    [\"Atact-Prop\", 2, \"C3H6-R\", \"C3H6\", 1/1000,  3.0145e4, 1, None, 343.15],\n",
    "    [\"Atact-Prop\", 3, \"C3H6-R\", \"C3H6\", 0.1/1000,  3.0145e4, 1, None, 343.15],\n",
    "    [\"Atact-Prop\", 4, \"C3H6-R\", \"C3H6\", 0.1/1000,  3.0145e4, 1, None, 343.15]]"
   ]
  },
  {
   "cell_type": "code",
   "execution_count": 56,
   "metadata": {},
   "outputs": [],
   "source": [
    "# 设置反应器参数: 反应温度、压力、有效相态、计算反应体积的参数(参考Aspen)\n",
    "specs = {\n",
    "    \"P\": 3e6,\n",
    "    \"T\": 333.15,\n",
    "    \"Valid phases\": \"VL\",\n",
    "    \"Specification type\": \"Reactor volume & Phase volume\",\n",
    "    \"Reactor volume\": 90,\n",
    "    \"Condensed phase volume\": 60,\n",
    "    \"Reactions\": {\"Type\":\"Z-N\", \n",
    "                    \"Species\":species, \n",
    "                    \"Reactions\":r1, \n",
    "                    \"Reacting phase\":\"liquid\"}\n",
    "}"
   ]
  },
  {
   "cell_type": "code",
   "execution_count": 57,
   "metadata": {},
   "outputs": [
    {
     "name": "stdout",
     "output_type": "stream",
     "text": [
      "{'T': 333.15, 'P': 3000000.0, 'Mole Flow': 7022.5497619267135, 'Mole Fraction': {'C3H6': 0.768254005045942, 'C3H8': 0.14352194792651413, 'H2': 0.07848600304178821, 'N2': 0.007201217422216645, 'PP': 0.0025327363467456754, 'TiCl4': 6.255726447709357e-07, 'TEA': 3.464644148552338e-06}, 'TiCl4': {'CPSFLOW': 0.00011693290385144051, 'CDSFLOW': 3.0168891898226477e-05, 'CISFLOW': array([0., 0., 0., 0.]), 'CVSFLOW': array([7.13730514e-09, 5.79389166e-08, 2.54848806e-09, 1.75261730e-08])}, 'PP': {'SFLOW': {'C3H6-R': 1.0}, 'SFRAC': {'C3H6-R': 1.0}, 'LSZMOM': array([2.57174138e-05, 2.56666121e-05, 2.57220026e-05, 2.57070249e-05]), 'DSZMOM': array([0.00191181, 0.00312907, 0.00126432, 0.00245058]), 'LSFMOM': array([0.07045996, 0.0097238 , 0.16607674, 0.030657  ]), 'DSFMOM': array([5.23792097, 1.18544792, 8.16320828, 2.92244264]), 'LSSMOM': array([ 386.0185618 ,    7.35799722, 2144.41675253,   73.08955833]), 'DSSMOM': array([ 28696.22410264,    897.02849093, 105405.01294071,   6967.41520568]), 'ZMOM': 0.008858583934125077, 'FMOM': 17.785937311675617, 'SMOM': 144576.56360983127, 'DPN': 2007.7630289374522, 'DPW': 8128.70084248659}}\n"
     ]
    }
   ],
   "source": [
    "# 运行计算程序，输出出口流量、组成、各位点各阶矩\n",
    "product = cstr(components,args, polymers, [feed], specs)\n",
    "print(product)"
   ]
  },
  {
   "cell_type": "code",
   "execution_count": 58,
   "metadata": {},
   "outputs": [],
   "source": [
    "# 计算链长分布\n",
    "# n = get_points(Np=100, upper=100000)\n",
    "# eqs, τ, SFMOM, mw = model(sol.x, components,args, ploymers, feed, CSTR) \n",
    "# w = cld(τ, SFMOM, n, GPC=True)\n",
    "# print(\"局部分子量分布: \\n\", w)"
   ]
  },
  {
   "cell_type": "code",
   "execution_count": 59,
   "metadata": {},
   "outputs": [],
   "source": [
    "# 绘制链长分布图\n",
    "# cld_plot(n, w)"
   ]
  },
  {
   "cell_type": "code",
   "execution_count": 60,
   "metadata": {},
   "outputs": [],
   "source": [
    "# 计算分子量分布\n",
    "# Mn = n*mw\n",
    "# w = mwd(τ, SFMOM, mw, Mn)\n",
    "# print(\"局部分子量分布: \\n\", w)"
   ]
  },
  {
   "cell_type": "code",
   "execution_count": 61,
   "metadata": {},
   "outputs": [],
   "source": [
    "# 绘制分子量分布图\n",
    "# mwd_plot(Mn,w)"
   ]
  }
 ],
 "metadata": {
  "interpreter": {
   "hash": "a8f61be024eba58adef938c9aa1e29e02cb3dece83a5348b1a2dafd16a070453"
  },
  "kernelspec": {
   "display_name": "Python 3.7.1 ('base')",
   "language": "python",
   "name": "python3"
  },
  "language_info": {
   "codemirror_mode": {
    "name": "ipython",
    "version": 3
   },
   "file_extension": ".py",
   "mimetype": "text/x-python",
   "name": "python",
   "nbconvert_exporter": "python",
   "pygments_lexer": "ipython3",
   "version": "3.7.1"
  },
  "orig_nbformat": 4
 },
 "nbformat": 4,
 "nbformat_minor": 2
}
